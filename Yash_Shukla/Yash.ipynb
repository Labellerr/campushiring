{
  "nbformat": 4,
  "nbformat_minor": 0,
  "metadata": {
    "colab": {
      "provenance": []
    },
    "kernelspec": {
      "name": "python3",
      "display_name": "Python 3"
    },
    "language_info": {
      "name": "python"
    }
  },
  "cells": [
    {
      "cell_type": "code",
      "execution_count": null,
      "metadata": {
        "id": "oDFpso8Ue3OM"
      },
      "outputs": [],
      "source": [
        "!pip install ultralytics\n"
      ]
    },
    {
      "cell_type": "code",
      "source": [
        "import os\n",
        "from ultralytics import YOLO\n",
        "from google.colab import drive\n",
        "import matplotlib.pyplot as plt\n",
        "import cv2\n"
      ],
      "metadata": {
        "id": "5ThMJn4ygM0Y"
      },
      "execution_count": null,
      "outputs": []
    },
    {
      "cell_type": "code",
      "source": [
        "drive.mount('/content/drive')\n"
      ],
      "metadata": {
        "id": "dHdSL-KlgRbg"
      },
      "execution_count": null,
      "outputs": []
    },
    {
      "cell_type": "code",
      "source": [
        "DATASET_ROOT = \"/content/drive/MyDrive/seg_dataset\"\n",
        "\n",
        "yaml_path = os.path.join(DATASET_ROOT, \"data.yaml\")\n",
        "train_path = os.path.join(DATASET_ROOT, \"images/train\")\n",
        "val_path = os.path.join(DATASET_ROOT, \"images/val\")\n",
        "test_path = os.path.join(DATASET_ROOT, \"images/test\")\n",
        "\n",
        "print(\"YAML path:\", yaml_path)\n",
        "print(\"Train images:\", len(os.listdir(train_path)))\n",
        "print(\"Val images:\", len(os.listdir(val_path)))\n",
        "print(\"Test images:\", len(os.listdir(test_path)))\n"
      ],
      "metadata": {
        "id": "NsiHfNnmgTeX"
      },
      "execution_count": null,
      "outputs": []
    },
    {
      "cell_type": "code",
      "source": [
        "det_model = YOLO(\"yolov8n.pt\")\n"
      ],
      "metadata": {
        "id": "5LBs2YvDgVxn"
      },
      "execution_count": null,
      "outputs": []
    },
    {
      "cell_type": "code",
      "source": [
        "def train_model(model, yaml_file, epochs=30, img_size=640, batch_size=16):\n",
        "    print(\"Starting training...\")\n",
        "    results = model.train(\n",
        "        data=yaml_file,\n",
        "        epochs=epochs,\n",
        "        imgsz=img_size,\n",
        "        batch=batch_size,\n",
        "        project=\"/content/drive/MyDrive/yolo_training\",\n",
        "        name=\"detection_exp1\"\n",
        "    )\n",
        "    print(\"Training complete!\")\n",
        "    return results\n"
      ],
      "metadata": {
        "id": "RxK6zrF0gXyM"
      },
      "execution_count": null,
      "outputs": []
    },
    {
      "cell_type": "code",
      "source": [
        "train_results = train_model(det_model, yaml_path, epochs=25, img_size=640, batch_size=8)\n"
      ],
      "metadata": {
        "id": "N1oy3qtXgZ_5"
      },
      "execution_count": null,
      "outputs": []
    },
    {
      "cell_type": "code",
      "source": [
        "val_metrics = det_model.val()\n",
        "print(val_metrics)\n"
      ],
      "metadata": {
        "id": "Yp18TH0Mgb0y"
      },
      "execution_count": null,
      "outputs": []
    },
    {
      "cell_type": "code",
      "source": [
        "pred_results = det_model.predict(\n",
        "    source=test_path,\n",
        "    save=True,\n",
        "    conf=0.4\n",
        ")\n"
      ],
      "metadata": {
        "id": "oYb1uN-7gd7a"
      },
      "execution_count": null,
      "outputs": []
    },
    {
      "cell_type": "code",
      "source": [
        "def show_prediction_image(image_path):\n",
        "    img = cv2.imread(image_path)\n",
        "    img_rgb = cv2.cvtColor(img, cv2.COLOR_BGR2RGB)\n",
        "    plt.figure(figsize=(8, 6))\n",
        "    plt.imshow(img_rgb)\n",
        "    plt.axis(\"off\")\n",
        "    plt.show()\n",
        "\n",
        "pred_dir = \"/content/runs/detect/predict\"\n",
        "if os.path.exists(pred_dir):\n",
        "    pred_files = os.listdir(pred_dir)\n",
        "    if len(pred_files) > 0:\n",
        "        first_result = os.path.join(pred_dir, pred_files[0])\n",
        "        print(\"Showing:\", first_result)\n",
        "        show_prediction_image(first_result)\n",
        "    else:\n",
        "        print(\"No prediction files found!\")\n",
        "else:\n",
        "    print(\"Prediction directory not found!\")\n"
      ],
      "metadata": {
        "id": "xdzgci5qgf9T"
      },
      "execution_count": null,
      "outputs": []
    }
  ]
}