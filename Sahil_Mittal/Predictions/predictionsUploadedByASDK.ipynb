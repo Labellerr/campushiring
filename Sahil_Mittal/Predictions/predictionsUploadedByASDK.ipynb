{
  "nbformat": 4,
  "nbformat_minor": 0,
  "metadata": {
    "colab": {
      "provenance": []
    },
    "kernelspec": {
      "name": "python3",
      "display_name": "Python 3"
    },
    "language_info": {
      "name": "python"
    }
  },
  "cells": [
    {
      "cell_type": "code",
      "execution_count": 1,
      "metadata": {
        "colab": {
          "base_uri": "https://localhost:8080/"
        },
        "id": "DVdl8zLfoQfe",
        "outputId": "0fb97328-7f54-4c0f-d6e6-86a418d06a7b"
      },
      "outputs": [
        {
          "output_type": "stream",
          "name": "stdout",
          "text": [
            "Collecting https://github.com/tensormatics/SDKPython/releases/download/prod/labellerr_sdk-1.0.0.tar.gz\n",
            "  Downloading https://github.com/tensormatics/SDKPython/releases/download/prod/labellerr_sdk-1.0.0.tar.gz (18 kB)\n",
            "  Preparing metadata (setup.py) ... \u001b[?25l\u001b[?25hdone\n",
            "Requirement already satisfied: requests in /usr/local/lib/python3.12/dist-packages (from labellerr_sdk==1.0.0) (2.32.4)\n",
            "Collecting unique_names_generator (from labellerr_sdk==1.0.0)\n",
            "  Downloading unique_names_generator-1.0.2-py2.py3-none-any.whl.metadata (2.7 kB)\n",
            "Requirement already satisfied: charset_normalizer<4,>=2 in /usr/local/lib/python3.12/dist-packages (from requests->labellerr_sdk==1.0.0) (3.4.3)\n",
            "Requirement already satisfied: idna<4,>=2.5 in /usr/local/lib/python3.12/dist-packages (from requests->labellerr_sdk==1.0.0) (3.10)\n",
            "Requirement already satisfied: urllib3<3,>=1.21.1 in /usr/local/lib/python3.12/dist-packages (from requests->labellerr_sdk==1.0.0) (2.5.0)\n",
            "Requirement already satisfied: certifi>=2017.4.17 in /usr/local/lib/python3.12/dist-packages (from requests->labellerr_sdk==1.0.0) (2025.8.3)\n",
            "Downloading unique_names_generator-1.0.2-py2.py3-none-any.whl (27 kB)\n",
            "Building wheels for collected packages: labellerr_sdk\n",
            "  Building wheel for labellerr_sdk (setup.py) ... \u001b[?25l\u001b[?25hdone\n",
            "  Created wheel for labellerr_sdk: filename=labellerr_sdk-1.0.0-py3-none-any.whl size=15645 sha256=73902f66c416399c20549f23dd48a5ed749f8b8763c39e1af6db9fbf8586c886\n",
            "  Stored in directory: /root/.cache/pip/wheels/54/98/af/0958eeb14c4b940bf2dd0b21614eeae86c73c0f536ae59dc1d\n",
            "Successfully built labellerr_sdk\n",
            "Installing collected packages: unique_names_generator, labellerr_sdk\n",
            "Successfully installed labellerr_sdk-1.0.0 unique_names_generator-1.0.2\n"
          ]
        }
      ],
      "source": [
        "!pip install https://github.com/tensormatics/SDKPython/releases/download/prod/labellerr_sdk-1.0.0.tar.gz\n"
      ]
    },
    {
      "cell_type": "code",
      "source": [
        "from labellerr.client import LabellerrClient\n",
        "from labellerr.exceptions import LabellerrError\n",
        "\n",
        "client = LabellerrClient(\"255afa.cb8e2d41f59ed6199f5dc402d0\", \"b3d8b06333c67658440472661862cc3d09a49ce0b31bb305cd578a79dc7c784e\")\n",
        "project_id = \"de_vivacious_minnow_42059\"\n",
        "client_id = \"14466\"\n",
        "\n",
        "try:\n",
        "    result = client.upload_preannotation_by_project_id(\n",
        "        project_id,\n",
        "        client_id,\n",
        "        annotation_format=\"coco_json\",\n",
        "        annotation_file=\"/content/predictions.json\"\n",
        "    )\n",
        "    status = result['response']['status']\n",
        "    print(\"Upload status:\", status)\n",
        "    if status == 'completed':\n",
        "        print(\"Predictions successfully processed\")\n",
        "        print(\"Metadata:\", result['response'].get('metadata'))\n",
        "except LabellerrError as e:\n",
        "    print(\"Upload failed:\", e)\n",
        "\n"
      ],
      "metadata": {
        "colab": {
          "base_uri": "https://localhost:8080/"
        },
        "id": "gvdulc30qO0X",
        "outputId": "3d9abcc9-4414-4d51-ae0d-7d775d976d83"
      },
      "execution_count": 3,
      "outputs": [
        {
          "output_type": "stream",
          "name": "stdout",
          "text": [
            "response_data --  {'message': '200: Success', 'response': {'job_id': '809b5f83-e067-490c-b207-2077368838f5'}, 'error': None}\n",
            "Preannotation upload successful. Job ID: 809b5f83-e067-490c-b207-2077368838f5\n",
            "retrying after 5 seconds . . .\n",
            "retrying after 5 seconds . . .\n",
            "retrying after 5 seconds . . .\n",
            "retrying after 5 seconds . . .\n",
            "retrying after 5 seconds . . .\n",
            "retrying after 5 seconds . . .\n",
            "retrying after 5 seconds . . .\n",
            "retrying after 5 seconds . . .\n",
            "retrying after 5 seconds . . .\n",
            "retrying after 5 seconds . . .\n",
            "retrying after 5 seconds . . .\n",
            "retrying after 5 seconds . . .\n",
            "retrying after 5 seconds . . .\n",
            "retrying after 5 seconds . . .\n",
            "retrying after 5 seconds . . .\n",
            "retrying after 5 seconds . . .\n",
            "Upload status: completed\n",
            "Predictions successfully processed\n",
            "Metadata: {'questions_ignored': [], 'activity_id': '809b5f83-e067-490c-b207-2077368838f5', 'files_not_updated': ['819003a2f313a857_jpg.rf.975b1354c62379d93032d9ddd3a216c1.jpg', 'd25391d708f337ce_jpg.rf.866adf256e8a7d959dd8d33729f707b9.jpg', 'b7ca8f95ad08cdda_jpg.rf.3751acce55be3b308e918cec95e3ac5e.jpg', '05168c8b40707be2_jpg.rf.8d16bc946394e5e3004ab10f7d157334.jpg', '56eaa673deaa0765_jpg.rf.e8c397bd19bc7451dde8fc4d805d1e35.jpg', 'f2463ddabfffc04f_jpg.rf.7838deecd75897ebebdf0b230164e4c9.jpg', '0a03d85b3dcb2a1b_jpg.rf.a00ac9c0b1e0178bd393f049593c73c6.jpg', 'motorcycle-accident-6.jpg', '45dc77695b432d4a_jpg.rf.7b401d2e3c830417a2236554a591ee71.jpg', 'd9f305c713b2dadb_jpg.rf.dNgU77NzBkEeoushM4bo.jpg', 'Pickup-truck-pedestrian-bicycle-crash.jpeg', 'eb8054a03e86ba71_jpg.rf.ijvrEHArAZuYiPmwP3Vc.jpg', 'be613907a0a28d0a_jpg.rf.36ef2c64ce15b8493c719b28b592b114.jpg', 'new-motor-vehicles-act-from-today_fdbf41ba-daa3-11e9-aefb-e5.jpg', 'rush-hour-traffic-on-kampala-street-with-taxi-van-boda-bodas.jpg', 'e0911bf7f6fa1c50_jpg.rf.YYIhMdsas9UzI44NSK2B.jpg', '991d4282940eb27a_jpg.rf.972033bc338dae820ec5a2f2c488b3cd.jpg', '94003454cbe9f9ca_jpg.rf.2d2731321c576ed27a263aedffc2a700.jpg', 'dfb39f1fac5cf808_jpg.rf.1Tppe0nEW0DwHxeoZyRC.jpg', 'fe64277a355adbc1_jpg.rf.fabff45c8703e6fb44aeca38ef50ea26.jpg', '1d3c0507e127f1ea_jpg.rf.2c6a1e3b13c7582a2072e3204c8f010d.jpg', '38a29a2b08ad3603_jpg.rf.4e1adea755db4ebb84196a9fa73b548b.jpg', '31b1c599fd0f2280_jpg.rf.9FbyuGPg6vbindnsI6Wz.jpg', 'suv-on-a-busy-street-width-1500-format-jpeg.jpg', '3870187e63a7eae5_jpg.rf.803920373ccf5c59a43840e3a6c3625f.jpg', 'da73fa913610a8af_jpg.rf.6181575fc32ddcaaf681e116a9f87059.jpg', 'f34351bcba59ff09_jpg.rf.O5keryA6uMEG3EG5pdsd.jpg', 'kolkata-india-february-2-2020-yellow-classic-taxis-public-tr.jpg', '4046b4261847fad4_jpg.rf.Pu8ZmWKhSQ9UmJVGH0o4.jpg', 'photo1_pedestrians.jpg', '7fa18bd0fbca2fe8_jpg.rf.kt4iiRQEx7TtbHNmAht2.jpg', 'e6fc8c3669e7c657_jpg.rf.0cc9fcb5fe2ef6bca58a2e51b0ab205b.jpg', 'ce14ea02e2b95819_jpg.rf.63dcdb5eac458bcd8ff1a84a672456c1.jpg', '6f276e419bd817e1_jpg.rf.3671f9cb028c749c0caa3d9a71c6e6ff.jpg', '0060021ac952f49f_jpg.rf.855a8f5f8feac97880cfc2ccc3ebef78.jpg', 'e46a1707296e5434_jpg.rf.7sY10MerI5pFbeYn6szR.jpg', 'mumbai-dadar-footpaths-turn-into-danger-zones-with-bikes-spe.jpg', '9d3c9b88e091fd93_jpg.rf.edd86aafa1343418632d880febc03b8c.jpg', 'a427d2734cc7e939_jpg.rf.mew9bctJDZDUepI9WxXw.jpg', '26335526c56f84e6_jpg.rf.v6NM4GzK2sqD8HBhVUjQ.jpg', 'c4eeaa22024b4359_jpg.rf.ab895f04dfef661552c21225c2c1395b.jpg', '8775622bbafe270a_jpg.rf.f8b3ffa075923cd351c64d514cd90644.jpg', 'suvs-pedestrians-iStock-1177654681.jpg', '61940061f7f0f8a8_jpg.rf.18dcdaaffe05310df526c1d9ac9405ac.jpg', '0013d97a44c586c0_jpg.rf.c129e0f75e464334397783e12eeddd69.jpg', 'ea87ffff22c14e7a_jpg.rf.a3617e737c1eab6b5b7473e03c0e98cf.jpg']}\n"
          ]
        }
      ]
    }
  ]
}