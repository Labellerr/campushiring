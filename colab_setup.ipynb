{
 "cells": [
  {
   "cell_type": "code",
   "execution_count": null,
   "metadata": {
    "vscode": {
     "languageId": "plaintext"
    }
   },
   "outputs": [],
   "source": [
    "# CELL 1 - install libs\n",
    "!pip install -U pip\n",
    "!pip install ultralytics pycocotools opencv-python matplotlib shapely albumentations tqdm requests Pillow\n",
    "\n",
    "# Install ByteTrack port if needed (example)\n",
    "!pip install bytetrack-pytorch==0.4.0\n",
    "\n",
    "# CELL 2 - setup (upload files)\n",
    "from google.colab import files\n",
    "# Upload labellerr COCO export JSON and images zip (or mount drive)\n",
    "# For large datasets, prefer mounting Google Drive\n",
    "# files.upload()  # manual\n"
   ]
  }
 ],
 "metadata": {
  "language_info": {
   "name": "python"
  }
 },
 "nbformat": 4,
 "nbformat_minor": 2
}
